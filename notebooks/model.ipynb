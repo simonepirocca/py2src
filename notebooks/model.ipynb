{
  "nbformat": 4,
  "nbformat_minor": 0,
  "metadata": {
    "colab": {
      "name": "model.ipynb",
      "provenance": [],
      "include_colab_link": true
    },
    "kernelspec": {
      "name": "python3",
      "display_name": "Python 3"
    }
  },
  "cells": [
    {
      "cell_type": "markdown",
      "metadata": {
        "id": "view-in-github",
        "colab_type": "text"
      },
      "source": [
        "<a href=\"https://colab.research.google.com/github/simonepirocca/research_project/blob/master/notebooks/model.ipynb\" target=\"_parent\"><img src=\"https://colab.research.google.com/assets/colab-badge.svg\" alt=\"Open In Colab\"/></a>"
      ]
    },
    {
      "cell_type": "code",
      "metadata": {
        "id": "gCm9ODSEyECG",
        "colab_type": "code",
        "colab": {}
      },
      "source": [
        "import pandas as pd"
      ],
      "execution_count": null,
      "outputs": []
    },
    {
      "cell_type": "code",
      "metadata": {
        "id": "b_ZtvGwDoDob",
        "colab_type": "code",
        "colab": {
          "base_uri": "https://localhost:8080/",
          "height": 34
        },
        "outputId": "63e8d3d9-8ca7-4674-a198-cfb27b1b1d5d"
      },
      "source": [
        "print(\"Hello\")"
      ],
      "execution_count": null,
      "outputs": [
        {
          "output_type": "stream",
          "text": [
            "Hello\n"
          ],
          "name": "stdout"
        }
      ]
    },
    {
      "cell_type": "code",
      "metadata": {
        "id": "Kg-aZrW7xsOR",
        "colab_type": "code",
        "colab": {}
      },
      "source": [
        "data_csv_path = \"https://docs.google.com/spreadsheets/d/e/2PACX-1vRxOF7QspvwvhXKQUceh8YkOrMI0OTHKDbgdjR4x0y91XlD-YMRGVHhufNLJ73VhS5pbOT4x1ywt4Jd/pub?gid=1949783191&single=true&output=csv\""
      ],
      "execution_count": null,
      "outputs": []
    },
    {
      "cell_type": "code",
      "metadata": {
        "id": "puu6wMBayHZa",
        "colab_type": "code",
        "colab": {}
      },
      "source": [
        "# Load data\n",
        "df = pd.read_csv(data_csv_path)"
      ],
      "execution_count": null,
      "outputs": []
    },
    {
      "cell_type": "code",
      "metadata": {
        "id": "-Qo6Qd3fyahX",
        "colab_type": "code",
        "colab": {
          "base_uri": "https://localhost:8080/",
          "height": 119
        },
        "outputId": "e842e3aa-f8fb-4d88-9d5d-d9206e7f1e5e"
      },
      "source": [
        "# Columns/Features\n",
        "df.columns"
      ],
      "execution_count": null,
      "outputs": [
        {
          "output_type": "execute_result",
          "data": {
            "text/plain": [
              "Index(['package_name', 'pypi_downloads', 'github_url', 'stars', 'last_commit',\n",
              "       'commit_freq', 'release_freq', 'open_issues', 'closed_issues',\n",
              "       'api_closed_issues', 'avg_days_to_close_issue', 'contributors',\n",
              "       'dep_repos', 'dep_pkgs', 'libraries_io_url', 'sourcerank',\n",
              "       'dep_repos.1', 'dep_pkgs.1'],\n",
              "      dtype='object')"
            ]
          },
          "metadata": {
            "tags": []
          },
          "execution_count": 21
        }
      ]
    },
    {
      "cell_type": "code",
      "metadata": {
        "id": "BMucze8a1YpK",
        "colab_type": "code",
        "colab": {
          "base_uri": "https://localhost:8080/",
          "height": 34
        },
        "outputId": "89a092c1-2340-42a8-bb1c-1a0d32293755"
      },
      "source": [
        "# Preprocessing data\n",
        "\n",
        "# Removing NaNs\n",
        "df.isnull().values.any()\n",
        "\n",
        "# Scaling data"
      ],
      "execution_count": null,
      "outputs": [
        {
          "output_type": "execute_result",
          "data": {
            "text/plain": [
              "True"
            ]
          },
          "metadata": {
            "tags": []
          },
          "execution_count": 22
        }
      ]
    },
    {
      "cell_type": "code",
      "metadata": {
        "id": "NegKdiyM1drm",
        "colab_type": "code",
        "colab": {}
      },
      "source": [
        "# Definine features (Xs) (one or more features)\n",
        "X = ['avg_days_to_close_issue']"
      ],
      "execution_count": null,
      "outputs": []
    },
    {
      "cell_type": "code",
      "metadata": {
        "id": "CaeuUbd504xH",
        "colab_type": "code",
        "colab": {}
      },
      "source": [
        "# Define targets (Y)\n",
        "y = ['dep_pkgs']"
      ],
      "execution_count": null,
      "outputs": []
    },
    {
      "cell_type": "code",
      "metadata": {
        "id": "5TcWf7A512I2",
        "colab_type": "code",
        "colab": {}
      },
      "source": [
        "# Build a model\n",
        "from sklearn.linear_model import LogisticRegression"
      ],
      "execution_count": null,
      "outputs": []
    },
    {
      "cell_type": "code",
      "metadata": {
        "id": "ledFTyKJ2QJy",
        "colab_type": "code",
        "colab": {}
      },
      "source": [
        "# Fit a model\n",
        "logreg = LogisticRegression()\n",
        "logreg.fit(X, y)"
      ],
      "execution_count": null,
      "outputs": []
    },
    {
      "cell_type": "code",
      "metadata": {
        "id": "eGIiyER02maJ",
        "colab_type": "code",
        "colab": {}
      },
      "source": [
        "# Identify coefficients \n",
        "logreg.coef_"
      ],
      "execution_count": null,
      "outputs": []
    }
  ]
}